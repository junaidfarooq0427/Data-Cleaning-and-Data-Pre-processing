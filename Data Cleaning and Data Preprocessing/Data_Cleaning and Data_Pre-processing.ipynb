{
  "nbformat": 4,
  "nbformat_minor": 0,
  "metadata": {
    "colab": {
      "provenance": []
    },
    "kernelspec": {
      "name": "python3",
      "display_name": "Python 3"
    },
    "language_info": {
      "name": "python"
    }
  },
  "cells": [
    {
      "cell_type": "code",
      "execution_count": null,
      "metadata": {
        "id": "DXy2UQMaausq"
      },
      "outputs": [],
      "source": [
        "import pandas as pd\n",
        "\n",
        "# Read the CSV file\n",
        "df = pd.read_csv('listings.csv')\n",
        "\n",
        "# Drop unnecessary columns\n",
        "columns_to_drop = ['host_id', 'host_name', 'neighbourhood_group', 'last_review', 'license']\n",
        "df.drop(columns_to_drop, axis=1, inplace=True)\n",
        "\n",
        "# Remove rows with missing values\n",
        "df.dropna(inplace=True)\n",
        "\n",
        "# Remove special characters from the 'name' column\n",
        "df['name'] = df['name'].str.replace('★', '')\n",
        "df['name'] = df['name'].str.replace('·', '')\n",
        "df['name'] = df['name'].str.replace(' bedrooms', '')\n",
        "df['name'] = df['name'].str.replace(' beds', '')\n",
        "df['name'] = df['name'].str.replace(' baths', '')\n",
        "\n",
        "# Convert 'price' column to numeric\n",
        "df['price'] = df['price'].str.replace(',', '')\n",
        "df['price'] = pd.to_numeric(df['price'])\n",
        "\n",
        "# Convert 'minimum_nights' column to numeric\n",
        "df['minimum_nights'] = pd.to_numeric(df['minimum_nights'])\n",
        "\n",
        "# Convert 'number_of_reviews' column to numeric\n",
        "df['number_of_reviews'] = pd.to_numeric(df['number_of_reviews'])\n",
        "\n",
        "# Convert 'reviews_per_month' column to numeric\n",
        "df['reviews_per_month'] = pd.to_numeric(df['reviews_per_month'])\n",
        "\n",
        "# Convert 'calculated_host_listings_count' column to numeric\n",
        "df['calculated_host_listings_count'] = pd.to_numeric(df['calculated_host_listings_count'])\n",
        "\n",
        "# Convert 'availability_365' column to numeric\n",
        "df['availability_365'] = pd.to_numeric(df['availability_365'])\n",
        "\n",
        "# Convert 'number_of_reviews_ltm' column to numeric\n",
        "df['number_of_reviews_ltm'] = pd.to_numeric(df['number_of_reviews_ltm'])\n",
        "\n",
        "# Save the updated CSV file\n",
        "df.to_csv('updated_listings.csv', index=False)"
      ]
    }
  ]
}